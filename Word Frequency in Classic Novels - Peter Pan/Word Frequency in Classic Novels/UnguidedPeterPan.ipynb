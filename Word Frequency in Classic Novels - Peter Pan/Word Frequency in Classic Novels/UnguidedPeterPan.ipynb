{
 "cells": [
  {
   "cell_type": "markdown",
   "metadata": {
    "dc": {
     "key": "3"
    },
    "deletable": false,
    "editable": false,
    "run_control": {
     "frozen": true
    },
    "tags": [
     "context"
    ]
   },
   "source": [
    "## # Introduction\n",
    "<p><img src=\"https://assets.datacamp.com/production/project_1010/img/book_cover.jpg\" alt=\"The book cover of Peter and Wendy\" style=\"width:183;height:253px;\"></p>\n",
    "<h3 id=\"flyawaywithpeterpan\">Fly away with Peter Pan!</h3>\n",
    "<p>Peter Pan has been the companion of many children, and went a long way, starting as a Christmas play and ending up as a Disney classic. Did you know that although the play was titled \"Peter Pan, Or The Boy Who Wouldn't Grow Up\", J. M. Barrie's novel was actually titled \"Peter and Wendy\"? </p>\n",
    "<p>You're going to explore and analyze Peter Pan's text to answer the question in the instruction pane below. You are working with the text version available here at <a href=\"https://www.gutenberg.org/files/16/16-h/16-h.htm\">Project Gutenberg</a>. Feel free to add as many cells as necessary. Finally, remember that you are only tested on your answer, not on the methods you use to arrive at the answer!</p>\n",
    "<p><strong>Note:</strong> If you haven't completed a DataCamp project before you should check out the <a href=\"https://projects.datacamp.com/projects/33\">Intro to Projects</a> first to learn about the interface. <a href=\"https://www.datacamp.com/courses/intermediate-importing-data-in-python\">Intermediate Importing Data in Python</a> and <a href=\"https://www.datacamp.com/courses/introduction-to-natural-language-processing-in-python\">Introduction to Natural Language Processing in Python</a> teach the skills required to complete this project. Should you decide to use them, English stopwords have been downloaded from <code>nltk</code> and are available for you in your environment.</p>"
   ]
  },
  {
   "cell_type": "code",
   "execution_count": 11,
   "metadata": {
    "dc": {
     "key": "3"
    },
    "tags": [
     "sample_code"
    ]
   },
   "outputs": [],
   "source": [
    "# Use this cell to begin your analysis, and add as many as you would like!\n"
   ]
  },
  {
   "cell_type": "code",
   "execution_count": 12,
   "metadata": {},
   "outputs": [],
   "source": [
    "#Import libraries\n",
    "import requests                  # To get objects from the web\n",
    "import nltk                      # To manipulate text data\n",
    "from bs4 import BeautifulSoup    # To manipulate HTML code\n",
    "from collections import Counter  # To count words"
   ]
  },
  {
   "cell_type": "code",
   "execution_count": 13,
   "metadata": {},
   "outputs": [
    {
     "name": "stdout",
     "output_type": "stream",
     "text": [
      "<!DOCTYPE html PUBLIC \"-//W3C//DTD XHTML 1.0 Strict//EN\"\n",
      "\"http://www.w3.org/TR/xhtml1/DTD/xhtml1-strict.dtd\">\n",
      "<html xmlns=\"http://www.w3.org/1999/xhtml\" xml:lang=\"en\" lang=\"en\">\n",
      "<head>\n",
      "<meta http-equiv=\"Content-Type\" content=\"text/html;charset=utf-8\" />\n",
      "<meta http-equiv=\"Content-Style-Type\" content=\"text/css\" />\n",
      "<title>The Project Gutenberg eBook of Peter Pan, by James M. Barrie</title>\n",
      "\n",
      "<style type=\"text/css\">\n",
      "\n",
      "body { margin-left: 20%;\n",
      "       margin-right: 20%;\n",
      "       text-align: justify; }\n",
      "\n",
      "h1, h2, h3, h4, h5 {text-align: center; font-style: normal; font-weight:\n",
      "normal; line-height: 1.5; margin-top: .5em; margin-bottom: .5em;}\n",
      "\n",
      "h1 {font-size: 300%;\n",
      "    margin-top: 0.6em;\n",
      "    margin-bottom: 0.6em;\n",
      "    letter-spacing: 0.12em;\n",
      "    word-spacing: 0.2em;\n",
      "    text-indent: 0em;}\n",
      "h2 {font-size: 150%; margin-top: 2em; margin-bottom: 1em;}\n",
      "h3 {font-size: 130%; margin-top: 1em;}\n",
      "h4 {font-size: 120%;}\n",
      "h5 {font-size: 110%;}\n",
      "\n",
      ".no-break {page-break-before: avoid;} /* for epubs */\n",
      "\n",
      "div.chapter {page-break-before: always; margin-top: 4em;}\n",
      "\n",
      "hr {width: 80%; margin-top: 2em; margin-bottom: 2em;}\n",
      "\n",
      "p {text-indent: 1em;\n",
      "   margin-top: 0.25em;\n",
      "   margin-bottom: 0.25em; }\n",
      "\n",
      "p.poem {text-indent: 0%;\n",
      "        margin-left: 10%;\n",
      "        font-size: 90%;\n",
      "        margin-top: 1em;\n",
      "        margin-bottom: 1em; }\n",
      "\n",
      "p.letter {text-indent: 0%;\n",
      "          margin-left: 10%;\n",
      "          margin-right: 10%;\n",
      "          margin-top: 1em;\n",
      "          margin-bottom: 1em; }\n",
      "\n",
      "p.center  {text-align: center;\n",
      "           text-indent: 0em;\n",
      "           margin-top: 1em;\n",
      "           margin-bottom: 1em; }\n",
      "\n",
      "a:link {color:blue; text-decoration:none}\n",
      "a:visited {color:blue; text-decoration:none}\n",
      "a:hover {color:red}\n",
      "\n",
      "</style>\n",
      "\n",
      "</head>\n",
      "\n",
      "<body>\n",
      "\n",
      "<div style='text-align:center; font-size:1.2em; font-weight:bold;'>The Project Gutenberg eBook of Peter Pan, by James M. Barrie</div>\n",
      "<div style='display:block; margin:1em 0'>\n",
      "This eBook is for the use of anyone anywhere in the Unit\n"
     ]
    }
   ],
   "source": [
    "#: Get HTML\n",
    "r = requests.get(\"https://www.gutenberg.org/files/16/16-h/16-h.htm\")\n",
    "\n",
    "# Set the response encoding to utf-8\n",
    "r.encoding = 'utf-8'\n",
    "\n",
    "# Get HTML code from response\n",
    "html = r.text\n",
    "\n",
    "# Printing the first 2000 characters in html\n",
    "print(html[0:2000])"
   ]
  },
  {
   "cell_type": "code",
   "execution_count": 14,
   "metadata": {},
   "outputs": [
    {
     "name": "stdout",
     "output_type": "stream",
     "text": [
      " be tied up\n",
      "this instant.”\n",
      "\n",
      "\n",
      "“George, George,” Mrs. Darling whispered, “remember what I\n",
      "told you about that boy.”\n",
      "\n",
      "\n",
      "Alas, he would not listen. He was determined to show who was master in that\n",
      "house, and when commands would not draw Nana from the kennel, he lured her out\n",
      "of it with honeyed words, and seizing her roughly, dragged her from the\n",
      "nursery. He was ashamed of himself, and yet he did it. It was all owing to his\n",
      "too affectionate nature, which craved for admiration. When he had tied her up\n",
      "in the back-yard, the wretched father went and sat in the passage, with his\n",
      "knuckles to his eyes.\n",
      "\n",
      "\n",
      "In the meantime Mrs. Darling had put the children to bed in unwonted silence\n",
      "and lit their night-lights. They could hear Nana barking, and John whimpered,\n",
      "“It is because he is chaining her up in the yard,” but Wendy was\n",
      "wiser.\n",
      "\n",
      "\n",
      "“That is not Nana’s unhappy bark,” she said, little guessing\n",
      "what was about to happen; “that is her bark when she smells\n",
      "danger.”\n",
      "\n",
      "\n",
      "Danger!\n",
      "\n",
      "\n",
      "“Are you sure, Wendy?”\n",
      "\n",
      "\n",
      "“Oh, yes.”\n",
      "\n",
      "\n",
      "Mrs. Darling quivered and went to the window. It was securely fastened. She\n",
      "looked out, and the night was peppered with stars. They were crowding round the\n",
      "house, as if curious to see what was to take place there, but she did not\n",
      "notice this, nor that one or two of the smaller ones winked at her. Yet a\n",
      "nameless fear clutched at her heart and made her cry, “Oh, how I wish\n",
      "that I wasn’t going to a party to-night!”\n",
      "\n",
      "\n",
      "Even Michael, already half asleep, knew that she was perturbed, and he asked,\n",
      "“Can anything harm us, mother, after the night-lights are lit?”\n",
      "\n",
      "\n",
      "“Nothing, precious,” she said; “they are the eyes a mother\n",
      "leaves behind her to guard her children.”\n",
      "\n",
      "\n",
      "She went from bed to bed singing enchantments over them, and little Michael\n",
      "flung his arms round her. “Mother,” he cried, “I’m glad\n",
      "of you.” They were the last words she was to hear from him for a long\n",
      "time.\n",
      "\n",
      "\n",
      "No. 27 was only a few yards distant, but there had been a slight fall\n"
     ]
    }
   ],
   "source": [
    "#: Get text from HTML\n",
    "# Convert to Unicode\n",
    "soup = BeautifulSoup(html)\n",
    "\n",
    "# Extract text\n",
    "text = soup.text\n",
    "\n",
    "# Printing out text between characters 32000 and 34000\n",
    "print(text[32000:34000])"
   ]
  },
  {
   "cell_type": "code",
   "execution_count": 15,
   "metadata": {},
   "outputs": [
    {
     "name": "stderr",
     "output_type": "stream",
     "text": [
      "<>:3: SyntaxWarning: invalid escape sequence '\\w'\n",
      "<>:3: SyntaxWarning: invalid escape sequence '\\w'\n",
      "C:\\Users\\rtara\\AppData\\Local\\Temp\\ipykernel_2360\\1598147007.py:3: SyntaxWarning: invalid escape sequence '\\w'\n",
      "  tokenizer = nltk.tokenize.RegexpTokenizer(\"\\w+\")\n"
     ]
    },
    {
     "data": {
      "text/plain": [
       "['The', 'Project', 'Gutenberg', 'eBook', 'of', 'Peter', 'Pan', 'by']"
      ]
     },
     "execution_count": 15,
     "metadata": {},
     "output_type": "execute_result"
    }
   ],
   "source": [
    "#Get words\n",
    "# Create tokenizer\n",
    "tokenizer = nltk.tokenize.RegexpTokenizer(\"\\w+\")\n",
    "\n",
    "# Tokenize text\n",
    "tokens = tokenizer.tokenize(text)\n",
    "\n",
    "# Printing out the first 8 words / tokens \n",
    "tokens[0:8]"
   ]
  },
  {
   "cell_type": "code",
   "execution_count": 16,
   "metadata": {},
   "outputs": [
    {
     "data": {
      "text/plain": [
       "['the', 'project', 'gutenberg', 'ebook', 'of', 'peter', 'pan', 'by']"
      ]
     },
     "execution_count": 16,
     "metadata": {},
     "output_type": "execute_result"
    }
   ],
   "source": [
    "#Lowercase\n",
    "# Lowercase tokens\n",
    "words = [token.lower() for token in tokens]\n",
    "\n",
    "# Printing out the first 8 words / tokens \n",
    "words[:8]"
   ]
  },
  {
   "cell_type": "code",
   "execution_count": 17,
   "metadata": {},
   "outputs": [
    {
     "name": "stderr",
     "output_type": "stream",
     "text": [
      "[nltk_data] Downloading package stopwords to\n",
      "[nltk_data]     C:\\Users\\rtara\\AppData\\Roaming\\nltk_data...\n",
      "[nltk_data]   Package stopwords is already up-to-date!\n"
     ]
    }
   ],
   "source": [
    "#Load stopwords\n",
    "# Download stopwords\n",
    "nltk.download('stopwords')\n",
    "\n",
    "# Make a list of stop words\n",
    "stop_words = nltk.corpus.stopwords.words(\"english\")"
   ]
  },
  {
   "cell_type": "code",
   "execution_count": 18,
   "metadata": {},
   "outputs": [
    {
     "data": {
      "text/plain": [
       "['project', 'gutenberg', 'ebook', 'peter', 'pan']"
      ]
     },
     "execution_count": 18,
     "metadata": {},
     "output_type": "execute_result"
    }
   ],
   "source": [
    "#Remove stopwords\n",
    "# Remove stopwords from tokens list\n",
    "words_clean = [word for word in words if word not in stop_words]\n",
    "\n",
    "# Printing the first 5 words_ns to check that  stop words are gone\n",
    "words_clean[:5]"
   ]
  },
  {
   "cell_type": "code",
   "execution_count": 19,
   "metadata": {},
   "outputs": [
    {
     "name": "stdout",
     "output_type": "stream",
     "text": [
      "[('peter', 409), ('wendy', 362), ('said', 358), ('would', 217), ('one', 212), ('hook', 174), ('could', 142), ('cried', 136), ('john', 133), ('time', 126)]\n"
     ]
    }
   ],
   "source": [
    "#Count words\n",
    "# Get count dictionary\n",
    "count = Counter(words_clean)\n",
    "\n",
    "# Get top 10 most common words\n",
    "top_ten = count.most_common(10)\n",
    "\n",
    "# Print the top ten \n",
    "print(top_ten)"
   ]
  },
  {
   "cell_type": "code",
   "execution_count": 20,
   "metadata": {},
   "outputs": [],
   "source": [
    "#Declare protagonists\n",
    "protagonists = [\"peter\", \"wendy\", \"hook\", \"john\"]"
   ]
  }
 ],
 "metadata": {
  "kernelspec": {
   "display_name": "Python 3",
   "language": "python",
   "name": "python3"
  },
  "language_info": {
   "codemirror_mode": {
    "name": "ipython",
    "version": 3
   },
   "file_extension": ".py",
   "mimetype": "text/x-python",
   "name": "python",
   "nbconvert_exporter": "python",
   "pygments_lexer": "ipython3",
   "version": "3.12.2"
  }
 },
 "nbformat": 4,
 "nbformat_minor": 2
}
